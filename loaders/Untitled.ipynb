{
 "cells": [
  {
   "cell_type": "code",
   "execution_count": 6,
   "id": "fcf3902d",
   "metadata": {},
   "outputs": [],
   "source": [
    "from queryer import SwitchArea\n",
    "from gridappsd_cim import Terminal, Equipment, LinearShuntCompensator, RegulatingControl, ConnectivityNode, \\\n",
    "    TransformerTank"
   ]
  },
  {
   "cell_type": "code",
   "execution_count": 11,
   "id": "b5da1afc",
   "metadata": {},
   "outputs": [
    {
     "name": "stdout",
     "output_type": "stream",
     "text": [
      "Field(name='mRID',type='Optional[str]',default=None,default_factory=<dataclasses._MISSING_TYPE object at 0x7f6f887b1b50>,init=True,repr=True,hash=None,compare=True,metadata=mappingproxy({'type': 'Element', 'namespace': 'http://iec.ch/TC57/'}),_field_type=_FIELD)\n",
      "Field(name='aliasName',type='Optional[str]',default=None,default_factory=<dataclasses._MISSING_TYPE object at 0x7f6f887b1b50>,init=True,repr=True,hash=None,compare=True,metadata=mappingproxy({'type': 'Element', 'namespace': 'http://iec.ch/TC57/'}),_field_type=_FIELD)\n",
      "Field(name='description',type='Optional[str]',default=None,default_factory=<dataclasses._MISSING_TYPE object at 0x7f6f887b1b50>,init=True,repr=True,hash=None,compare=True,metadata=mappingproxy({'type': 'Element', 'namespace': 'http://iec.ch/TC57/'}),_field_type=_FIELD)\n",
      "Field(name='name',type='Optional[str]',default=None,default_factory=<dataclasses._MISSING_TYPE object at 0x7f6f887b1b50>,init=True,repr=True,hash=None,compare=True,metadata=mappingproxy({'type': 'Element', 'namespace': 'http://iec.ch/TC57/'}),_field_type=_FIELD)\n",
      "Field(name='Names',type='List[Name]',default=<dataclasses._MISSING_TYPE object at 0x7f6f887b1b50>,default_factory=<class 'list'>,init=True,repr=True,hash=None,compare=True,metadata=mappingproxy({'type': 'Element', 'namespace': 'http://iec.ch/TC57/'}),_field_type=_FIELD)\n",
      "Field(name='connected',type='Optional[bool]',default=None,default_factory=<dataclasses._MISSING_TYPE object at 0x7f6f887b1b50>,init=True,repr=True,hash=None,compare=True,metadata=mappingproxy({'type': 'Element', 'namespace': 'http://iec.ch/TC57/'}),_field_type=_FIELD)\n",
      "Field(name='sequenceNumber',type='Optional[int]',default=None,default_factory=<dataclasses._MISSING_TYPE object at 0x7f6f887b1b50>,init=True,repr=True,hash=None,compare=True,metadata=mappingproxy({'type': 'Element', 'namespace': 'http://iec.ch/TC57/'}),_field_type=_FIELD)\n",
      "Field(name='Measurements',type='List[Measurement]',default=<dataclasses._MISSING_TYPE object at 0x7f6f887b1b50>,default_factory=<class 'list'>,init=True,repr=True,hash=None,compare=True,metadata=mappingproxy({'type': 'Element', 'namespace': 'http://iec.ch/TC57/'}),_field_type=_FIELD)\n",
      "Field(name='OperationalLimitSet',type='List[OperationalLimitSet]',default=<dataclasses._MISSING_TYPE object at 0x7f6f887b1b50>,default_factory=<class 'list'>,init=True,repr=True,hash=None,compare=True,metadata=mappingproxy({'type': 'Element', 'namespace': 'http://iec.ch/TC57/'}),_field_type=_FIELD)\n",
      "Field(name='ConductingEquipment',type=\"Optional['ConductingEquipment']\",default=None,default_factory=<dataclasses._MISSING_TYPE object at 0x7f6f887b1b50>,init=True,repr=True,hash=None,compare=True,metadata=mappingproxy({'type': 'Element', 'namespace': 'http://iec.ch/TC57/', 'required': True}),_field_type=_FIELD)\n",
      "Field(name='ConnectivityNode',type=\"Optional['ConnectivityNode']\",default=None,default_factory=<dataclasses._MISSING_TYPE object at 0x7f6f887b1b50>,init=True,repr=True,hash=None,compare=True,metadata=mappingproxy({'type': 'Element', 'namespace': 'http://iec.ch/TC57/'}),_field_type=_FIELD)\n",
      "Field(name='EquipmentFaults',type=\"List['EquipmentFault']\",default=<dataclasses._MISSING_TYPE object at 0x7f6f887b1b50>,default_factory=<class 'list'>,init=True,repr=True,hash=None,compare=True,metadata=mappingproxy({'type': 'Element', 'namespace': 'http://iec.ch/TC57/'}),_field_type=_FIELD)\n",
      "Field(name='NormalHeadFeeder',type=\"Optional['Feeder']\",default=None,default_factory=<dataclasses._MISSING_TYPE object at 0x7f6f887b1b50>,init=True,repr=True,hash=None,compare=True,metadata=mappingproxy({'type': 'Element', 'namespace': 'http://iec.ch/TC57/'}),_field_type=_FIELD)\n",
      "Field(name='RegulatingControl',type=\"List['RegulatingControl']\",default=<dataclasses._MISSING_TYPE object at 0x7f6f887b1b50>,default_factory=<class 'list'>,init=True,repr=True,hash=None,compare=True,metadata=mappingproxy({'type': 'Element', 'namespace': 'http://iec.ch/TC57/'}),_field_type=_FIELD)\n",
      "Field(name='RemoteInputSignals',type='List[RemoteInputSignal]',default=<dataclasses._MISSING_TYPE object at 0x7f6f887b1b50>,default_factory=<class 'list'>,init=True,repr=True,hash=None,compare=True,metadata=mappingproxy({'type': 'Element', 'namespace': 'http://iec.ch/TC57/'}),_field_type=_FIELD)\n",
      "Field(name='SvPowerFlow',type='List[SvPowerFlow]',default=<dataclasses._MISSING_TYPE object at 0x7f6f887b1b50>,default_factory=<class 'list'>,init=True,repr=True,hash=None,compare=True,metadata=mappingproxy({'type': 'Element', 'namespace': 'http://iec.ch/TC57/'}),_field_type=_FIELD)\n",
      "Field(name='TopologicalNode',type=\"Optional['TopologicalNode']\",default=None,default_factory=<dataclasses._MISSING_TYPE object at 0x7f6f887b1b50>,init=True,repr=True,hash=None,compare=True,metadata=mappingproxy({'type': 'Element', 'namespace': 'http://iec.ch/TC57/'}),_field_type=_FIELD)\n",
      "Field(name='TransformerEnd',type='List[TransformerEnd]',default=<dataclasses._MISSING_TYPE object at 0x7f6f887b1b50>,default_factory=<class 'list'>,init=True,repr=True,hash=None,compare=True,metadata=mappingproxy({'type': 'Element', 'namespace': 'http://iec.ch/TC57/'}),_field_type=_FIELD)\n"
     ]
    }
   ],
   "source": [
    "from dataclasses import fields\n",
    "# fields(SwitchArea)\n",
    "# for f in fields(Terminal):\n",
    "#     print(f)\n",
    "    \n",
    "t = Terminal()\n",
    "\n",
    "for p in fields(t):\n",
    "    print(p)\n",
    "#print([t in fields(t))"
   ]
  },
  {
   "cell_type": "code",
   "execution_count": null,
   "id": "e238444c",
   "metadata": {},
   "outputs": [],
   "source": []
  }
 ],
 "metadata": {
  "kernelspec": {
   "display_name": "Python 3 (ipykernel)",
   "language": "python",
   "name": "python3"
  },
  "language_info": {
   "codemirror_mode": {
    "name": "ipython",
    "version": 3
   },
   "file_extension": ".py",
   "mimetype": "text/x-python",
   "name": "python",
   "nbconvert_exporter": "python",
   "pygments_lexer": "ipython3",
   "version": "3.8.5"
  }
 },
 "nbformat": 4,
 "nbformat_minor": 5
}
