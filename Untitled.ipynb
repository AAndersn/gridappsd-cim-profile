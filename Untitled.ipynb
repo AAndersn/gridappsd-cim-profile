{
 "cells": [
  {
   "cell_type": "code",
   "execution_count": 1,
   "id": "9d2939ec",
   "metadata": {},
   "outputs": [],
   "source": [
    "import os, json, time, sys\n",
    "from __future__ import annotations\n",
    "from typing import List\n",
    "from dataclasses import dataclass, field\n",
    "from gridappsd import GridAPPSD, topics as t\n",
    "from gridappsd_cim import *\n",
    "import gridappsd_cim as cim\n",
    "#from gridappsd_cim.loaders import DistributedModel\n",
    "from gridappsd_cim.loaders.blazegraph_connection import BlazeGraphConnection"
   ]
  },
  {
   "cell_type": "code",
   "execution_count": 2,
   "id": "b88fe719",
   "metadata": {},
   "outputs": [],
   "source": [
    "c = BlazeGraphConnection(\"http://localhost:8889/bigdata/namespace/kb/sparql\",\n",
    "                         feeder_mrid=\"_5B816B93-7A5F-B64C-8460-47C17D6E4B0F\")"
   ]
  },
  {
   "cell_type": "code",
   "execution_count": 3,
   "id": "663408af",
   "metadata": {},
   "outputs": [
    {
     "name": "stdout",
     "output_type": "stream",
     "text": [
      "{'eqid': {'type': 'literal', 'value': '_6A7D7AF8-A0F7-41B6-BB0C-160EAE054DEA'}, 'eqname': {'type': 'literal', 'value': 'cap1'}, 'class': {'type': 'literal', 'value': 'LinearShuntCompensator'}}\n",
      "LinearShuntCompensator\n"
     ]
    },
    {
     "data": {
      "text/plain": [
       "[LinearShuntCompensator(mRID='_6A7D7AF8-A0F7-41B6-BB0C-160EAE054DEA', aliasName=None, description=None, name=None, Names=[], AssetDatasheet=None, Assets=[], Controls=[], Location=None, Measurements=[], inService=None, Faults=[], OperationalLimitSet=[], BaseVoltage=None, SvStatus=[], Terminals=[], controlEnabled=None, RegulatingControl=None, aVRDelay=None, grounded=None, maximumSections=None, nomU=None, normalSections=None, phaseConnection=None, sections=None, ShuntCompensatorPhase=[], SvShuntCompensatorSections=None, b0PerSection=None, bPerSection=None, g0PerSection=None, gPerSection=None)]"
      ]
     },
     "execution_count": 3,
     "metadata": {},
     "output_type": "execute_result"
    }
   ],
   "source": [
    "c.create_default_instances(c.feeder_mrid, ['_6A7D7AF8-A0F7-41B6-BB0C-160EAE054DEA'])"
   ]
  },
  {
   "cell_type": "code",
   "execution_count": null,
   "id": "13661e73",
   "metadata": {},
   "outputs": [],
   "source": []
  }
 ],
 "metadata": {
  "kernelspec": {
   "display_name": "Python 3 (ipykernel)",
   "language": "python",
   "name": "python3"
  },
  "language_info": {
   "codemirror_mode": {
    "name": "ipython",
    "version": 3
   },
   "file_extension": ".py",
   "mimetype": "text/x-python",
   "name": "python",
   "nbconvert_exporter": "python",
   "pygments_lexer": "ipython3",
   "version": "3.8.5"
  }
 },
 "nbformat": 4,
 "nbformat_minor": 5
}
